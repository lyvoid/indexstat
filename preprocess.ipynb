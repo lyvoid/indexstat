{
 "cells": [
  {
   "cell_type": "code",
   "execution_count": 1,
   "metadata": {
    "collapsed": true
   },
   "outputs": [],
   "source": [
    "!head -n201 localdata/000001.csv | tail -n200 | awk -F',' '{print $1\",\"$4}' > localdata/subdata.csv"
   ]
  },
  {
   "cell_type": "code",
   "execution_count": 2,
   "metadata": {},
   "outputs": [
    {
     "name": "stdout",
     "output_type": "stream",
     "text": [
      "2018-06-05,3114.2055\r",
      "\r\n",
      "2018-06-04,3091.1909\r",
      "\r\n",
      "2018-06-01,3075.1372\r",
      "\r\n",
      "2018-05-31,3095.4737\r",
      "\r\n",
      "2018-05-30,3041.4434\r",
      "\r\n",
      "2018-05-29,3120.4605\r",
      "\r\n"
     ]
    }
   ],
   "source": [
    "!head -n6 localdata/subdata.csv"
   ]
  },
  {
   "cell_type": "code",
   "execution_count": 3,
   "metadata": {
    "collapsed": true
   },
   "outputs": [],
   "source": [
    "import pandas as pd"
   ]
  },
  {
   "cell_type": "code",
   "execution_count": 4,
   "metadata": {},
   "outputs": [
    {
     "data": {
      "text/plain": [
       "2017-08-09    3275.5730\n",
       "2017-08-10    3261.7494\n",
       "2017-08-11    3208.5413\n",
       "2017-08-12          NaN\n",
       "2017-08-13          NaN\n",
       "2017-08-14    3237.3602\n",
       "2017-08-15    3251.2617\n",
       "Freq: D, Name: value, dtype: float64"
      ]
     },
     "execution_count": 4,
     "metadata": {},
     "output_type": "execute_result"
    }
   ],
   "source": [
    "sr = pd.read_csv('localdata/subdata.csv', index_col=0, squeeze=True, header=None, names=['date', 'value'])\n",
    "sr.index = pd.DatetimeIndex(sr.index)\n",
    "sr = sr.reindex(pd.date_range(start='2017-08-09',end='2018-06-05', freq='D'))\n",
    "sr.head(7)"
   ]
  },
  {
   "cell_type": "code",
   "execution_count": 7,
   "metadata": {},
   "outputs": [
    {
     "data": {
      "text/plain": [
       "2017-08-09    3275.5730\n",
       "2017-08-10    3261.7494\n",
       "2017-08-11    3208.5413\n",
       "2017-08-12    3208.5413\n",
       "2017-08-13    3208.5413\n",
       "2017-08-14    3237.3602\n",
       "2017-08-15    3251.2617\n",
       "Freq: D, Name: value, dtype: float64"
      ]
     },
     "execution_count": 7,
     "metadata": {},
     "output_type": "execute_result"
    }
   ],
   "source": [
    "sr = sr.fillna(method='pad')\n",
    "sr.head(7)"
   ]
  },
  {
   "cell_type": "code",
   "execution_count": 43,
   "metadata": {
    "collapsed": true
   },
   "outputs": [],
   "source": [
    "from datetime import date, timedelta\n",
    "def dataavg(data, today, day_before,day_delta=30):\n",
    "    today = date(*today)\n",
    "    n1 = day_delta / 2 - day_before\n",
    "    n2 = -day_delta / 2 - day_before\n",
    "    \n",
    "    return data[today + timedelta(days=n2): today + timedelta(days=n1)].mean()"
   ]
  },
  {
   "cell_type": "code",
   "execution_count": 52,
   "metadata": {
    "collapsed": true
   },
   "outputs": [],
   "source": [
    "from dao.models import SZIndexStat"
   ]
  },
  {
   "cell_type": "code",
   "execution_count": 80,
   "metadata": {},
   "outputs": [],
   "source": [
    "df = pd.DataFrame(sr)"
   ]
  },
  {
   "cell_type": "code",
   "execution_count": 90,
   "metadata": {},
   "outputs": [],
   "source": [
    "all_insert_data = []\n",
    "for i in range(df.shape[0]):\n",
    "    _date = df.iloc[i].name.date()\n",
    "    date_str = str(_date)\n",
    "    value = float(df.iloc[i])\n",
    "    one_line_data = {}\n",
    "    one_line_data['avg_30_index'] = dataavg(sr, (_date.year, _date.month, _date.day), 30)\n",
    "    one_line_data['avg_90_index'] = dataavg(sr, (_date.year, _date.month, _date.day), 90)\n",
    "    one_line_data['avg_180_index'] = dataavg(sr, (_date.year, _date.month, _date.day), 180)\n",
    "    one_line_data['date'] = date_str\n",
    "    one_line_data['today_index_value'] = value\n",
    "    all_insert_data.append(one_line_data)\n",
    "\n",
    "SZIndexStat.insert_many(all_insert_data)\n"
   ]
  }
 ],
 "metadata": {
  "kernelspec": {
   "display_name": "Python 3",
   "language": "python",
   "name": "python3"
  },
  "language_info": {
   "codemirror_mode": {
    "name": "ipython",
    "version": 3
   },
   "file_extension": ".py",
   "mimetype": "text/x-python",
   "name": "python",
   "nbconvert_exporter": "python",
   "pygments_lexer": "ipython3",
   "version": "3.6.3"
  }
 },
 "nbformat": 4,
 "nbformat_minor": 2
}
